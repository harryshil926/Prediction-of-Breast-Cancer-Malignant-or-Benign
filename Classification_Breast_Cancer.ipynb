{
 "cells": [
  {
   "cell_type": "markdown",
   "metadata": {},
   "source": [
    "# 1. Pre-steps"
   ]
  },
  {
   "cell_type": "markdown",
   "metadata": {},
   "source": [
    "## 1.1 Import the necessary packages"
   ]
  },
  {
   "cell_type": "code",
   "execution_count": 335,
   "metadata": {},
   "outputs": [],
   "source": [
    "import pandas as pd\n",
    "from sklearn.model_selection import train_test_split\n",
    "from sklearn.preprocessing import MinMaxScaler\n",
    "import matplotlib.pyplot as plt\n",
    "from sklearn.decomposition import PCA\n",
    "import seaborn as sns; sns.set()\n",
    "import numpy as np\n",
    "import warnings\n",
    "from sklearn.model_selection import train_test_split\n",
    "from sklearn.linear_model import LogisticRegression\n",
    "from sklearn.metrics import confusion_matrix\n",
    "from sklearn.model_selection import KFold\n",
    "warnings.filterwarnings(\"ignore\")\n"
   ]
  },
  {
   "cell_type": "markdown",
   "metadata": {},
   "source": [
    "## 1.2 Import the required dataset\n",
    "\n",
    "The dataset consists of features computed from a digitized image of a fine needle aspirate(FNA) of a breast mass. They describe characteristics of the cell nuclei present in the image. \n",
    "The aim is to build a robust classifier that predicts whether the diagnosis is malignant or benign based on the values of the computed features.\n"
   ]
  },
  {
   "cell_type": "code",
   "execution_count": 354,
   "metadata": {},
   "outputs": [
    {
     "data": {
      "text/html": [
       "<div>\n",
       "<style scoped>\n",
       "    .dataframe tbody tr th:only-of-type {\n",
       "        vertical-align: middle;\n",
       "    }\n",
       "\n",
       "    .dataframe tbody tr th {\n",
       "        vertical-align: top;\n",
       "    }\n",
       "\n",
       "    .dataframe thead th {\n",
       "        text-align: right;\n",
       "    }\n",
       "</style>\n",
       "<table border=\"1\" class=\"dataframe\">\n",
       "  <thead>\n",
       "    <tr style=\"text-align: right;\">\n",
       "      <th></th>\n",
       "      <th>id</th>\n",
       "      <th>diagnosis</th>\n",
       "      <th>radius_mean</th>\n",
       "      <th>texture_mean</th>\n",
       "      <th>perimeter_mean</th>\n",
       "      <th>area_mean</th>\n",
       "      <th>smoothness_mean</th>\n",
       "      <th>compactness_mean</th>\n",
       "      <th>concavity_mean</th>\n",
       "      <th>concave points_mean</th>\n",
       "      <th>...</th>\n",
       "      <th>radius_worst</th>\n",
       "      <th>texture_worst</th>\n",
       "      <th>perimeter_worst</th>\n",
       "      <th>area_worst</th>\n",
       "      <th>smoothness_worst</th>\n",
       "      <th>compactness_worst</th>\n",
       "      <th>concavity_worst</th>\n",
       "      <th>concave points_worst</th>\n",
       "      <th>symmetry_worst</th>\n",
       "      <th>fractal_dimension_worst</th>\n",
       "    </tr>\n",
       "  </thead>\n",
       "  <tbody>\n",
       "    <tr>\n",
       "      <th>0</th>\n",
       "      <td>842302</td>\n",
       "      <td>M</td>\n",
       "      <td>17.99</td>\n",
       "      <td>10.38</td>\n",
       "      <td>122.80</td>\n",
       "      <td>1001.0</td>\n",
       "      <td>0.11840</td>\n",
       "      <td>0.27760</td>\n",
       "      <td>0.3001</td>\n",
       "      <td>0.14710</td>\n",
       "      <td>...</td>\n",
       "      <td>25.38</td>\n",
       "      <td>17.33</td>\n",
       "      <td>184.60</td>\n",
       "      <td>2019.0</td>\n",
       "      <td>0.1622</td>\n",
       "      <td>0.6656</td>\n",
       "      <td>0.7119</td>\n",
       "      <td>0.2654</td>\n",
       "      <td>0.4601</td>\n",
       "      <td>0.11890</td>\n",
       "    </tr>\n",
       "    <tr>\n",
       "      <th>1</th>\n",
       "      <td>842517</td>\n",
       "      <td>M</td>\n",
       "      <td>20.57</td>\n",
       "      <td>17.77</td>\n",
       "      <td>132.90</td>\n",
       "      <td>1326.0</td>\n",
       "      <td>0.08474</td>\n",
       "      <td>0.07864</td>\n",
       "      <td>0.0869</td>\n",
       "      <td>0.07017</td>\n",
       "      <td>...</td>\n",
       "      <td>24.99</td>\n",
       "      <td>23.41</td>\n",
       "      <td>158.80</td>\n",
       "      <td>1956.0</td>\n",
       "      <td>0.1238</td>\n",
       "      <td>0.1866</td>\n",
       "      <td>0.2416</td>\n",
       "      <td>0.1860</td>\n",
       "      <td>0.2750</td>\n",
       "      <td>0.08902</td>\n",
       "    </tr>\n",
       "    <tr>\n",
       "      <th>2</th>\n",
       "      <td>84300903</td>\n",
       "      <td>M</td>\n",
       "      <td>19.69</td>\n",
       "      <td>21.25</td>\n",
       "      <td>130.00</td>\n",
       "      <td>1203.0</td>\n",
       "      <td>0.10960</td>\n",
       "      <td>0.15990</td>\n",
       "      <td>0.1974</td>\n",
       "      <td>0.12790</td>\n",
       "      <td>...</td>\n",
       "      <td>23.57</td>\n",
       "      <td>25.53</td>\n",
       "      <td>152.50</td>\n",
       "      <td>1709.0</td>\n",
       "      <td>0.1444</td>\n",
       "      <td>0.4245</td>\n",
       "      <td>0.4504</td>\n",
       "      <td>0.2430</td>\n",
       "      <td>0.3613</td>\n",
       "      <td>0.08758</td>\n",
       "    </tr>\n",
       "    <tr>\n",
       "      <th>3</th>\n",
       "      <td>84348301</td>\n",
       "      <td>M</td>\n",
       "      <td>11.42</td>\n",
       "      <td>20.38</td>\n",
       "      <td>77.58</td>\n",
       "      <td>386.1</td>\n",
       "      <td>0.14250</td>\n",
       "      <td>0.28390</td>\n",
       "      <td>0.2414</td>\n",
       "      <td>0.10520</td>\n",
       "      <td>...</td>\n",
       "      <td>14.91</td>\n",
       "      <td>26.50</td>\n",
       "      <td>98.87</td>\n",
       "      <td>567.7</td>\n",
       "      <td>0.2098</td>\n",
       "      <td>0.8663</td>\n",
       "      <td>0.6869</td>\n",
       "      <td>0.2575</td>\n",
       "      <td>0.6638</td>\n",
       "      <td>0.17300</td>\n",
       "    </tr>\n",
       "    <tr>\n",
       "      <th>4</th>\n",
       "      <td>84358402</td>\n",
       "      <td>M</td>\n",
       "      <td>20.29</td>\n",
       "      <td>14.34</td>\n",
       "      <td>135.10</td>\n",
       "      <td>1297.0</td>\n",
       "      <td>0.10030</td>\n",
       "      <td>0.13280</td>\n",
       "      <td>0.1980</td>\n",
       "      <td>0.10430</td>\n",
       "      <td>...</td>\n",
       "      <td>22.54</td>\n",
       "      <td>16.67</td>\n",
       "      <td>152.20</td>\n",
       "      <td>1575.0</td>\n",
       "      <td>0.1374</td>\n",
       "      <td>0.2050</td>\n",
       "      <td>0.4000</td>\n",
       "      <td>0.1625</td>\n",
       "      <td>0.2364</td>\n",
       "      <td>0.07678</td>\n",
       "    </tr>\n",
       "  </tbody>\n",
       "</table>\n",
       "<p>5 rows × 32 columns</p>\n",
       "</div>"
      ],
      "text/plain": [
       "         id diagnosis  radius_mean  texture_mean  perimeter_mean  area_mean  \\\n",
       "0    842302         M        17.99         10.38          122.80     1001.0   \n",
       "1    842517         M        20.57         17.77          132.90     1326.0   \n",
       "2  84300903         M        19.69         21.25          130.00     1203.0   \n",
       "3  84348301         M        11.42         20.38           77.58      386.1   \n",
       "4  84358402         M        20.29         14.34          135.10     1297.0   \n",
       "\n",
       "   smoothness_mean  compactness_mean  concavity_mean  concave points_mean  \\\n",
       "0          0.11840           0.27760          0.3001              0.14710   \n",
       "1          0.08474           0.07864          0.0869              0.07017   \n",
       "2          0.10960           0.15990          0.1974              0.12790   \n",
       "3          0.14250           0.28390          0.2414              0.10520   \n",
       "4          0.10030           0.13280          0.1980              0.10430   \n",
       "\n",
       "            ...             radius_worst  texture_worst  perimeter_worst  \\\n",
       "0           ...                    25.38          17.33           184.60   \n",
       "1           ...                    24.99          23.41           158.80   \n",
       "2           ...                    23.57          25.53           152.50   \n",
       "3           ...                    14.91          26.50            98.87   \n",
       "4           ...                    22.54          16.67           152.20   \n",
       "\n",
       "   area_worst  smoothness_worst  compactness_worst  concavity_worst  \\\n",
       "0      2019.0            0.1622             0.6656           0.7119   \n",
       "1      1956.0            0.1238             0.1866           0.2416   \n",
       "2      1709.0            0.1444             0.4245           0.4504   \n",
       "3       567.7            0.2098             0.8663           0.6869   \n",
       "4      1575.0            0.1374             0.2050           0.4000   \n",
       "\n",
       "   concave points_worst  symmetry_worst  fractal_dimension_worst  \n",
       "0                0.2654          0.4601                  0.11890  \n",
       "1                0.1860          0.2750                  0.08902  \n",
       "2                0.2430          0.3613                  0.08758  \n",
       "3                0.2575          0.6638                  0.17300  \n",
       "4                0.1625          0.2364                  0.07678  \n",
       "\n",
       "[5 rows x 32 columns]"
      ]
     },
     "execution_count": 354,
     "metadata": {},
     "output_type": "execute_result"
    }
   ],
   "source": [
    "df = pd.read_csv(\"data.csv\") \n",
    "df = df.drop('Unnamed: 32', axis =1)\n",
    "df.head()"
   ]
  },
  {
   "cell_type": "markdown",
   "metadata": {},
   "source": [
    "## 1.3 Create dummies for the dependent variable\n",
    "\n",
    "This step replaces the two classes of the dependent variable with 1 and 0."
   ]
  },
  {
   "cell_type": "code",
   "execution_count": 355,
   "metadata": {},
   "outputs": [],
   "source": [
    "df['diagnosis'].replace('M','1',inplace=True)\n",
    "df['diagnosis'].replace('B','0',inplace=True)\n"
   ]
  },
  {
   "cell_type": "markdown",
   "metadata": {},
   "source": [
    "# 2. Exploratory data analysis\n"
   ]
  },
  {
   "cell_type": "markdown",
   "metadata": {},
   "source": [
    "## 2.1 Generate Heatmap\n",
    "\n",
    "We generate a heatmap to visualize the correlation amongst features."
   ]
  },
  {
   "cell_type": "code",
   "execution_count": 356,
   "metadata": {},
   "outputs": [
    {
     "data": {
      "image/png": "[encoded data removed]",
      "text/plain": [
       "<Figure size 432x288 with 2 Axes>"
      ]
     },
     "metadata": {},
     "output_type": "display_data"
    }
   ],
   "source": [
    "corr_matrix = df.iloc[:,1:].corr()\n",
    "ax = sns.heatmap(\n",
    "    corr_matrix, \n",
    "    vmin=-1, vmax=1, center=0,\n",
    "    cmap=sns.diverging_palette(20, 220, n=200),\n",
    "    square=True\n",
    ")\n",
    "ax.set_xticklabels(\n",
    "    ax.get_xticklabels(),\n",
    "    rotation=45,\n",
    "    horizontalalignment='right'\n",
    ");"
   ]
  },
  {
   "cell_type": "markdown",
   "metadata": {},
   "source": [
    "## 2.2 Check distribution of classes for the dependent variable"
   ]
  },
  {
   "cell_type": "code",
   "execution_count": 357,
   "metadata": {},
   "outputs": [
    {
     "data": {
      "text/html": [
       "<div>\n",
       "<style scoped>\n",
       "    .dataframe tbody tr th:only-of-type {\n",
       "        vertical-align: middle;\n",
       "    }\n",
       "\n",
       "    .dataframe tbody tr th {\n",
       "        vertical-align: top;\n",
       "    }\n",
       "\n",
       "    .dataframe thead th {\n",
       "        text-align: right;\n",
       "    }\n",
       "</style>\n",
       "<table border=\"1\" class=\"dataframe\">\n",
       "  <thead>\n",
       "    <tr style=\"text-align: right;\">\n",
       "      <th></th>\n",
       "      <th>percentage(%)</th>\n",
       "    </tr>\n",
       "    <tr>\n",
       "      <th>diagnosis</th>\n",
       "      <th></th>\n",
       "    </tr>\n",
       "  </thead>\n",
       "  <tbody>\n",
       "    <tr>\n",
       "      <th>Malignant</th>\n",
       "      <td>37.26</td>\n",
       "    </tr>\n",
       "    <tr>\n",
       "      <th>Benign</th>\n",
       "      <td>62.74</td>\n",
       "    </tr>\n",
       "  </tbody>\n",
       "</table>\n",
       "</div>"
      ],
      "text/plain": [
       "           percentage(%)\n",
       "diagnosis               \n",
       "Malignant          37.26\n",
       "Benign             62.74"
      ]
     },
     "execution_count": 357,
     "metadata": {},
     "output_type": "execute_result"
    }
   ],
   "source": [
    "count_malignant = np.sum(df['diagnosis'].astype(int))\n",
    "count_benign = len(df)-count_malignant\n",
    "percentage_df = pd.DataFrame()\n",
    "percentage_df['diagnosis'] = ['Malignant', 'Benign']\n",
    "percentage_df['percentage(%)'] = [round(count_malignant/len(df)*100,2), round(count_benign/ len(df)*100,2)]\n",
    "percentage_df.index = percentage_df['diagnosis']\n",
    "percentage_df = percentage_df.drop(['diagnosis'], axis = 1)\n",
    "percentage_df"
   ]
  },
  {
   "cell_type": "markdown",
   "metadata": {},
   "source": [
    "# 3. Feature Engineering\n",
    "\n",
    "From the previous visualization, it is clear that there are a number of highly correlated features.\n",
    "Now, in order to use a logistic regression classifier, it is necessary that the polynomial function isn't too complex, this may cause the model to overfit. Also, it is always good to exclude the highly correlated predictors, since they don't add any value to the model training. Thus, performing dimensionality reduction is necessary before modelling."
   ]
  },
  {
   "cell_type": "markdown",
   "metadata": {},
   "source": [
    "## 3.1 Feature Scaling\n",
    "The dimensionality reduction technique being used is Principal Component Analysis. Now, since PCA creates principal components by expressing the features as a linear combination, it could happen that features are not at the same scale. It is important to bring the features to the same scale and preserve their distribution otherwise the principal components may appear to be more biased towards \n",
    "some features which is undesirable. Thus, the features are transformed to be within a pre-defined range using Min-Max Scaler."
   ]
  },
  {
   "cell_type": "code",
   "execution_count": 358,
   "metadata": {},
   "outputs": [],
   "source": [
    "def feature_scaling(data_frame):\n",
    "    scaler = MinMaxScaler(feature_range=(0,1))\n",
    "    temp=data_frame.values;\n",
    "    X=scaler.fit_transform(temp[:,2:data_frame.shape[1]])\n",
    "    data_frame.iloc[:,2:33]=X\n",
    "    data_frame.iloc[:,2:33]=X"
   ]
  },
  {
   "cell_type": "code",
   "execution_count": 359,
   "metadata": {},
   "outputs": [],
   "source": [
    "# Apply Feature Scaling\n",
    "feature_scaling(df)"
   ]
  },
  {
   "cell_type": "markdown",
   "metadata": {},
   "source": [
    "## 3.2 Apply dimensionality reduction\n",
    "\n",
    "PCA is being used to perform dimensionality reduction. Note that we would be choosing only a single principal component because dimensionality reduction is being performed on highly correlated features. Therefore, a single principal component is enough to explain all the variance in the data.\n",
    "The correlation_threshold is being set as 0.7."
   ]
  },
  {
   "cell_type": "code",
   "execution_count": 360,
   "metadata": {
    "scrolled": true
   },
   "outputs": [],
   "source": [
    "# The function is a wrapper function for the fit and transform method of PCA.\n",
    "def use_pca(dat):\n",
    "    pca = PCA(n_components=1)\n",
    "    pca.fit(dat)\n",
    "    X_pca = pca.transform(dat)\n",
    "    return(X_pca)\n",
    "\n",
    "# The function defined below runs PCA on the highly correlated features and returns a \n",
    "# dataset with fewer features, thus reducing the dimensions.\n",
    "\n",
    "def data_preprocess(df, correlation_threshold = 0.7):\n",
    "    i=0\n",
    "    j=1\n",
    "    component_list=[]\n",
    "    corr_matrix = df.iloc[:,1:].corr().abs() #find correlation matrix\n",
    "    for col in corr_matrix:\n",
    "        if(i<corr_matrix.shape[0]):\n",
    "            temp=corr_matrix.iloc[i,:];\n",
    "            component_list.append([corr_matrix.index[list(temp).index(value)] for value in temp if value>correlation_threshold])\n",
    "            if(int(len(component_list[len(component_list)-1])>1)):            \n",
    "                selected_df=pd.DataFrame(df[component_list[len(component_list)-1]])\n",
    "                component=use_pca(selected_df)\n",
    "                name='new_feature-'+str(j)\n",
    "                j+=1\n",
    "                df[name]=component\n",
    "                for feature in component_list[len(component_list)-1]:\n",
    "                    df.drop(feature, 1,inplace=True)\n",
    "                i=0;\n",
    "            else:\n",
    "                i+=1\n",
    "            corr_matrix = df.iloc[:,1:].corr().abs()"
   ]
  },
  {
   "cell_type": "code",
   "execution_count": 361,
   "metadata": {},
   "outputs": [
    {
     "name": "stdout",
     "output_type": "stream",
     "text": [
      "Number of features initially: 31\n",
      "Number of features after the transformation: 10\n"
     ]
    }
   ],
   "source": [
    "initial_df = df.copy(deep = True)\n",
    "data_preprocess(df, 0.7)\n",
    "df.head()\n",
    "print('Number of features initially: {}'.format(initial_df.shape[1]-1))\n",
    "print('Number of features after the transformation: {}'.format(df.shape[1]-1))"
   ]
  },
  {
   "cell_type": "code",
   "execution_count": 362,
   "metadata": {},
   "outputs": [
    {
     "data": {
      "text/html": [
       "<div>\n",
       "<style scoped>\n",
       "    .dataframe tbody tr th:only-of-type {\n",
       "        vertical-align: middle;\n",
       "    }\n",
       "\n",
       "    .dataframe tbody tr th {\n",
       "        vertical-align: top;\n",
       "    }\n",
       "\n",
       "    .dataframe thead th {\n",
       "        text-align: right;\n",
       "    }\n",
       "</style>\n",
       "<table border=\"1\" class=\"dataframe\">\n",
       "  <thead>\n",
       "    <tr style=\"text-align: right;\">\n",
       "      <th></th>\n",
       "      <th>id</th>\n",
       "      <th>diagnosis</th>\n",
       "      <th>symmetry_mean</th>\n",
       "      <th>texture_se</th>\n",
       "      <th>smoothness_se</th>\n",
       "      <th>symmetry_se</th>\n",
       "      <th>symmetry_worst</th>\n",
       "      <th>new_feature-2</th>\n",
       "      <th>new_feature-3</th>\n",
       "      <th>new_feature-5</th>\n",
       "      <th>new_feature-8</th>\n",
       "    </tr>\n",
       "  </thead>\n",
       "  <tbody>\n",
       "    <tr>\n",
       "      <th>0</th>\n",
       "      <td>842302</td>\n",
       "      <td>1</td>\n",
       "      <td>0.686364</td>\n",
       "      <td>0.120469</td>\n",
       "      <td>0.159296</td>\n",
       "      <td>0.311645</td>\n",
       "      <td>0.598462</td>\n",
       "      <td>-0.365970</td>\n",
       "      <td>0.278283</td>\n",
       "      <td>0.405728</td>\n",
       "      <td>1.326706</td>\n",
       "    </tr>\n",
       "    <tr>\n",
       "      <th>1</th>\n",
       "      <td>842517</td>\n",
       "      <td>1</td>\n",
       "      <td>0.379798</td>\n",
       "      <td>0.082589</td>\n",
       "      <td>0.119387</td>\n",
       "      <td>0.084539</td>\n",
       "      <td>0.233590</td>\n",
       "      <td>-0.079316</td>\n",
       "      <td>-0.109951</td>\n",
       "      <td>-0.083618</td>\n",
       "      <td>0.545463</td>\n",
       "    </tr>\n",
       "    <tr>\n",
       "      <th>2</th>\n",
       "      <td>84300903</td>\n",
       "      <td>1</td>\n",
       "      <td>0.509596</td>\n",
       "      <td>0.094303</td>\n",
       "      <td>0.150831</td>\n",
       "      <td>0.205690</td>\n",
       "      <td>0.403706</td>\n",
       "      <td>0.040787</td>\n",
       "      <td>0.136925</td>\n",
       "      <td>-0.033183</td>\n",
       "      <td>0.930401</td>\n",
       "    </tr>\n",
       "    <tr>\n",
       "      <th>3</th>\n",
       "      <td>84348301</td>\n",
       "      <td>1</td>\n",
       "      <td>0.776263</td>\n",
       "      <td>0.175875</td>\n",
       "      <td>0.251453</td>\n",
       "      <td>0.728148</td>\n",
       "      <td>1.000000</td>\n",
       "      <td>0.040806</td>\n",
       "      <td>0.659514</td>\n",
       "      <td>0.934063</td>\n",
       "      <td>0.657231</td>\n",
       "    </tr>\n",
       "    <tr>\n",
       "      <th>4</th>\n",
       "      <td>84358402</td>\n",
       "      <td>1</td>\n",
       "      <td>0.378283</td>\n",
       "      <td>0.093065</td>\n",
       "      <td>0.332359</td>\n",
       "      <td>0.136179</td>\n",
       "      <td>0.157500</td>\n",
       "      <td>-0.290840</td>\n",
       "      <td>0.048198</td>\n",
       "      <td>-0.095093</td>\n",
       "      <td>0.718764</td>\n",
       "    </tr>\n",
       "  </tbody>\n",
       "</table>\n",
       "</div>"
      ],
      "text/plain": [
       "         id diagnosis  symmetry_mean  texture_se  smoothness_se  symmetry_se  \\\n",
       "0    842302         1       0.686364    0.120469       0.159296     0.311645   \n",
       "1    842517         1       0.379798    0.082589       0.119387     0.084539   \n",
       "2  84300903         1       0.509596    0.094303       0.150831     0.205690   \n",
       "3  84348301         1       0.776263    0.175875       0.251453     0.728148   \n",
       "4  84358402         1       0.378283    0.093065       0.332359     0.136179   \n",
       "\n",
       "   symmetry_worst  new_feature-2  new_feature-3  new_feature-5  new_feature-8  \n",
       "0        0.598462      -0.365970       0.278283       0.405728       1.326706  \n",
       "1        0.233590      -0.079316      -0.109951      -0.083618       0.545463  \n",
       "2        0.403706       0.040787       0.136925      -0.033183       0.930401  \n",
       "3        1.000000       0.040806       0.659514       0.934063       0.657231  \n",
       "4        0.157500      -0.290840       0.048198      -0.095093       0.718764  "
      ]
     },
     "execution_count": 362,
     "metadata": {},
     "output_type": "execute_result"
    }
   ],
   "source": [
    "df.head()"
   ]
  },
  {
   "cell_type": "markdown",
   "metadata": {},
   "source": [
    "# 4. Model Performance Evaluation"
   ]
  },
  {
   "cell_type": "markdown",
   "metadata": {},
   "source": [
    "## 4.1 Train-test split\n",
    "An 80:20 split is being performed."
   ]
  },
  {
   "cell_type": "code",
   "execution_count": 363,
   "metadata": {},
   "outputs": [],
   "source": [
    "X_train, X_test, y_train, y_test = train_test_split(df.iloc[:,2:], df['diagnosis'], train_size = .8)"
   ]
  },
  {
   "cell_type": "markdown",
   "metadata": {},
   "source": [
    "## 4.2 Fit a classifier and perform predictions\n",
    "The classifier being used is Logistic Regression."
   ]
  },
  {
   "cell_type": "code",
   "execution_count": 364,
   "metadata": {},
   "outputs": [],
   "source": [
    "logisticRegr = LogisticRegression()\n",
    "logisticRegr.fit(X_train, y_train)\n",
    "y_pred=logisticRegr.predict(X_test)"
   ]
  },
  {
   "cell_type": "markdown",
   "metadata": {},
   "source": [
    "## 4.3 Evaluate the model "
   ]
  },
  {
   "cell_type": "code",
   "execution_count": 377,
   "metadata": {},
   "outputs": [],
   "source": [
    "score = logisticRegr.score(X_test, y_test)\n",
    "confusion_matrix(y_test, y_pred)\n",
    "true_negative, false_positive, false_negative, true_positive = confusion_matrix(y_test, y_pred).ravel()"
   ]
  },
  {
   "cell_type": "code",
   "execution_count": 378,
   "metadata": {},
   "outputs": [
    {
     "name": "stdout",
     "output_type": "stream",
     "text": [
      "The accuracy is 97.37 %\n",
      "The precision is 0.977\n",
      "The recall is 0.955\n"
     ]
    }
   ],
   "source": [
    "print('The accuracy is {} %'.format(round(score*100,2)))\n",
    "precision = true_positive/(true_positive+false_positive)\n",
    "recall = true_positive/(true_positive+false_negative)\n",
    "print('The precision is {}'.format(round(precision,3)))\n",
    "print('The recall is {}'.format(round(recall,3)))"
   ]
  },
  {
   "cell_type": "markdown",
   "metadata": {},
   "source": [
    "The classification output has a high recall, indicating that the malignant samples are being classified correctly. This is an essential evaluation metric since classifying a serious patient to be normal could be highly fatal. "
   ]
  },
  {
   "cell_type": "markdown",
   "metadata": {},
   "source": [
    "## 4.3 Evaluate Model using k-fold cross validation\n",
    "\n",
    "The k-fold cross-validation is used to check the performance of the model on different subsets of the data.\n",
    "It helps to determine whether the model generalizes well to new samples or not. Here, we use 5 splits. (5-fold)"
   ]
  },
  {
   "cell_type": "code",
   "execution_count": 351,
   "metadata": {},
   "outputs": [],
   "source": [
    "X=np.array(df.iloc[:,2:])\n",
    "y=df['diagnosis']\n",
    "n_splits = 5\n",
    "kf=KFold(n_splits=n_splits)\n",
    "X_train_lst=[]\n",
    "X_test_lst=[]\n",
    "y_train_lst=[]\n",
    "y_test_lst=[]\n",
    "\n",
    "for train_index, test_index in kf.split(X): \n",
    "    X_train_lst.append(X[train_index])\n",
    "    y_train_lst.append(y[train_index])\n",
    "    X_test_lst.append(X[test_index])\n",
    "    y_test_lst.append(y[test_index])\n",
    "    \n"
   ]
  },
  {
   "cell_type": "code",
   "execution_count": 352,
   "metadata": {},
   "outputs": [
    {
     "name": "stdout",
     "output_type": "stream",
     "text": [
      "Accuracy Score on subset 1: 87.72 %\n",
      "Accuracy Score on subset 2: 93.86 %\n",
      "Accuracy Score on subset 3: 96.49 %\n",
      "Accuracy Score on subset 4: 97.37 %\n",
      "Accuracy Score on subset 5: 96.46 %\n"
     ]
    }
   ],
   "source": [
    "for i in range(0, n_splits):\n",
    "    X_train=pd.DataFrame(X_train_lst[i])\n",
    "    y_train=pd.DataFrame(y_train_lst[i])\n",
    "    X_test=pd.DataFrame(X_test_lst[i])\n",
    "    y_test=pd.DataFrame(y_test_lst[i])\n",
    "    logisticRegr = LogisticRegression()\n",
    "    logisticRegr.fit(X_train, y_train)\n",
    "    score = logisticRegr.score(X_test, y_test)\n",
    "    print('Accuracy Score on subset {}: {} %'.format(i+1, round(score*100,2)))"
   ]
  },
  {
   "cell_type": "markdown",
   "metadata": {},
   "source": [
    "From the above accuracy scores, it can be inferred that the model has generalized well despite the imbalance in the dependent variable."
   ]
  }
 ],
 "metadata": {
  "kernelspec": {
   "display_name": "Python 3",
   "language": "python",
   "name": "python3"
  },
  "language_info": {
   "codemirror_mode": {
    "name": "ipython",
    "version": 3
   },
   "file_extension": ".py",
   "mimetype": "text/x-python",
   "name": "python",
   "nbconvert_exporter": "python",
   "pygments_lexer": "ipython3",
   "version": "3.7.1"
  }
 },
 "nbformat": 4,
 "nbformat_minor": 2
}
